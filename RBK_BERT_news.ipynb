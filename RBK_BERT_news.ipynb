{
 "cells": [
  {
   "cell_type": "code",
   "execution_count": 42,
   "metadata": {},
   "outputs": [],
   "source": [
    "import os\n",
    "import math\n",
    "import random\n",
    "import time\n",
    "import re\n",
    "from tqdm import tqdm\n",
    "import glob\n",
    "import ast\n",
    "import torch\n",
    "import torch.nn as nn\n",
    "from torch.utils.data import Dataset\n",
    "from torch.utils.data import DataLoader\n",
    "import torch.nn.functional as F\n",
    "from transformers import AutoTokenizer\n",
    "from transformers import AutoModel\n",
    "from transformers import AutoConfig\n",
    "from transformers import get_cosine_schedule_with_warmup\n",
    "from transformers import get_linear_schedule_with_warmup\n",
    "\n",
    "import pickle\n",
    "from sklearn.decomposition import PCA\n",
    "from sklearn.preprocessing import OneHotEncoder\n",
    "from sklearn.model_selection import train_test_split\n",
    "from sklearn import preprocessing\n",
    "from sklearn.metrics import r2_score\n",
    "from sklearn.feature_extraction.text import TfidfVectorizer\n",
    "import numpy as np\n",
    "import pandas as pd\n",
    "import matplotlib.pyplot as plt\n",
    "from sklearn.feature_extraction.text import CountVectorizer\n",
    "import nltk\n",
    "from nltk.corpus import stopwords\n",
    "russian_stopwords = stopwords.words(\"russian\")\n",
    "import matplotlib.pyplot as plt\n",
    "import gc\n",
    "gc.enable()"
   ]
  },
  {
   "cell_type": "code",
   "execution_count": 2,
   "metadata": {},
   "outputs": [],
   "source": [
    "def set_random_seed(random_seed):\n",
    "    random.seed(random_seed)\n",
    "    np.random.seed(random_seed)\n",
    "    os.environ[\"PYTHONHASHSEED\"] = str(random_seed)\n",
    "    torch.manual_seed(random_seed)\n",
    "    torch.cuda.manual_seed(random_seed)\n",
    "    torch.cuda.manual_seed_all(random_seed)\n",
    "    torch.backends.cudnn.deterministic = True\n",
    "set_random_seed(13)"
   ]
  },
  {
   "cell_type": "code",
   "execution_count": 3,
   "metadata": {},
   "outputs": [],
   "source": [
    "class CFG:\n",
    "    model = \"DeepPavlov/rubert-base-cased\"\n",
    "    epochs = 5\n",
    "    lr_bert = 1e-5\n",
    "    lr_nn = 1e-4\n",
    "    batch_size = 16\n",
    "    max_len = 512\n",
    "    n_fold = 4\n",
    "    device = torch.device(\"cuda:0\" if torch.cuda.is_available() else \"cpu\")"
   ]
  },
  {
   "cell_type": "code",
   "execution_count": 4,
   "metadata": {},
   "outputs": [],
   "source": [
    "df_train = pd.read_parquet(\"dataset/train_dataset_train_full_proc.parquet\")"
   ]
  },
  {
   "cell_type": "code",
   "execution_count": 5,
   "metadata": {},
   "outputs": [],
   "source": [
    "df_train['views'] = (df_train['views'] - df_train['views'].min()) / (df_train['views'].max() - df_train['views'].min())\n",
    "df_train['depth'] = df_train['depth'] - 1\n",
    "df_train['full_reads_percent'] = df_train['full_reads_percent'] / 100"
   ]
  },
  {
   "cell_type": "code",
   "execution_count": 6,
   "metadata": {},
   "outputs": [],
   "source": [
    "class RBKDataset(Dataset):\n",
    "    def __init__(self, df, inference_only=False):\n",
    "        super().__init__()\n",
    "        self.tokenizer = AutoTokenizer.from_pretrained(f\"{CFG.model}\")\n",
    "        self.df = df        \n",
    "        self.inference_only = inference_only\n",
    "        self.text = df.full_text_original.tolist()\n",
    "        \n",
    "        if not self.inference_only:\n",
    "            self.views = torch.tensor(df.views, dtype=torch.float32)  \n",
    "            self.depth = torch.tensor(df.depth, dtype=torch.float32) \n",
    "            self.full_reads_percent = torch.tensor(df.full_reads_percent, dtype=torch.float32)  \n",
    "    \n",
    "        self.encoded = self.tokenizer.batch_encode_plus(\n",
    "            self.text, \n",
    "            padding = 'max_length', \n",
    "            max_length = CFG.max_len,\n",
    "            add_special_tokens=True,\n",
    "            truncation = True,\n",
    "            return_attention_mask = True\n",
    "        )\n",
    "   \n",
    "    def __len__(self):\n",
    "        return len(self.df)\n",
    "\n",
    "    def __getitem__(self, index):        \n",
    "        input_ids = torch.tensor(self.encoded['input_ids'][index])\n",
    "        attention_mask = torch.tensor(self.encoded['attention_mask'][index])\n",
    "        \n",
    "        if self.inference_only:\n",
    "            return {\n",
    "                'input_ids': input_ids,\n",
    "                'attention_mask': attention_mask\n",
    "            }           \n",
    "        else:\n",
    "            views = self.views[index]\n",
    "            depth = self.depth[index]\n",
    "            full_reads_percent = self.full_reads_percent[index]\n",
    "            return {\n",
    "                'input_ids': input_ids,\n",
    "                'attention_mask': attention_mask,\n",
    "                'target': torch.stack([views, depth, full_reads_percent], dim=0)\n",
    "            }"
   ]
  },
  {
   "cell_type": "code",
   "execution_count": 7,
   "metadata": {},
   "outputs": [],
   "source": [
    "class RBKModel(nn.Module):\n",
    "    def __init__(self):\n",
    "        super().__init__()\n",
    "        self.config = AutoConfig.from_pretrained(f\"{CFG.model}\")\n",
    "        self.rubert = AutoModel.from_pretrained(f\"{CFG.model}\", config=self.config)  \n",
    "        self.attention = nn.Sequential(            \n",
    "                                            nn.Linear(768, 128),            \n",
    "                                            nn.Tanh(),                       \n",
    "                                            nn.Linear(128, 1),\n",
    "                                            nn.Softmax(dim=1)\n",
    "                                        )\n",
    "  \n",
    "        self.fc1 = nn.Linear(self.config.hidden_size, 100)\n",
    "        self.dropout = nn.Dropout(0.25)\n",
    "        self.relu = nn.ReLU()\n",
    "        self.fc2 = nn.Linear(100, 3)\n",
    "    \n",
    "    def forward(self, input_ids, attention_mask):\n",
    "        rubert_output = self.rubert(input_ids=input_ids,\n",
    "                                      attention_mask=attention_mask)\n",
    "        weights = self.attention(rubert_output['last_hidden_state'])\n",
    "        context_vector = torch.sum(weights * rubert_output['last_hidden_state'], dim=1)\n",
    "        fc1 = self.fc1(context_vector)\n",
    "        logits = self.fc2(self.relu(self.dropout(fc1)))\n",
    "        return {'logits': logits,\n",
    "               'context_vector': fc1}\n",
    "    \n",
    "    \n",
    "    "
   ]
  },
  {
   "cell_type": "code",
   "execution_count": 8,
   "metadata": {},
   "outputs": [],
   "source": [
    "def mertic_for_task(pred, target):\n",
    "    score_views = r2_score(target[:,0], pred[:,0])\n",
    "    score_depth = r2_score(target[:,1], pred[:,1])\n",
    "    score_frp = r2_score(target[:,2], pred[:,2])\n",
    "    return 0.4 * score_views + 0.3 * score_depth + 0.3 * score_frp"
   ]
  },
  {
   "cell_type": "code",
   "execution_count": 9,
   "metadata": {},
   "outputs": [],
   "source": [
    "class AverageMeter(object):\n",
    "    def __init__(self):\n",
    "        self.reset()\n",
    "\n",
    "    def reset(self):\n",
    "        self.val = 0\n",
    "        self.avg = 0\n",
    "        self.sum = 0\n",
    "        self.count = 0\n",
    "        self.cumulate_pred = []\n",
    "        self.cumulate_target = []\n",
    "    \n",
    "    def cumulate_metrics(self, pred, target):\n",
    "        self.cumulate_pred.extend(pred)\n",
    "        self.cumulate_target.extend(target)\n",
    "        \n",
    "    def return_avg_metric(self):\n",
    "        return mertic_for_task(np.array(self.cumulate_pred), np.array(self.cumulate_target))\n",
    "        \n",
    "    def update(self, val, n=1):\n",
    "        self.val = val\n",
    "        self.sum += val * n\n",
    "        self.count += n\n",
    "        self.avg = self.sum / self.count\n",
    "        \n",
    "    "
   ]
  },
  {
   "cell_type": "code",
   "execution_count": 10,
   "metadata": {},
   "outputs": [],
   "source": [
    "def train_net(loader, epoch, opt, tr_loss, model):\n",
    "    print(f\"Epoch {epoch+1}\")\n",
    "    model.train()\n",
    "    stream = tqdm(loader)\n",
    "    AverageTrain = AverageMeter()\n",
    "    for i, batch in enumerate(stream, start=1):\n",
    "        opt.zero_grad()\n",
    "        pred = model(batch['input_ids'].to(CFG.device), \n",
    "                     batch['attention_mask'].to(CFG.device)\n",
    "                    )['logits']\n",
    "        loss = tr_loss(pred, batch['target'].to(CFG.device))\n",
    "        loss.backward()\n",
    "        opt.step()\n",
    "        AverageTrain.update(loss.item())\n",
    "        AverageTrain.cumulate_metrics(pred.cpu().detach().numpy(), \n",
    "                                         batch['target'].detach().numpy())\n",
    "    print(f\"Loss on train {AverageTrain.avg} R2 {AverageTrain.return_avg_metric()}\")\n",
    "    return model, AverageTrain.avg, AverageTrain.return_avg_metric()"
   ]
  },
  {
   "cell_type": "code",
   "execution_count": 11,
   "metadata": {},
   "outputs": [],
   "source": [
    "def val_net(loader, tr_loss, model):\n",
    "    all_pred = []\n",
    "    all_target = []\n",
    "    \n",
    "    model.eval()\n",
    "    AverageTest = AverageMeter()\n",
    "    stream = tqdm(loader)\n",
    "    for i, batch in enumerate(stream, start=1):\n",
    "        with torch.set_grad_enabled(False):\n",
    "            pred = model(batch['input_ids'].to(CFG.device), \n",
    "                         batch['attention_mask'].to(CFG.device)\n",
    "                        )['logits']\n",
    "            loss = tr_loss(pred, batch['target'].to(CFG.device))\n",
    "        AverageTest.update(loss.item())\n",
    "        AverageTest.cumulate_metrics(pred.cpu().detach().numpy(), \n",
    "                                         batch['target'].detach().numpy())\n",
    "    \n",
    "    \n",
    "    print(f\"Loss on test {AverageTest.avg} R2 {AverageTest.return_avg_metric()}\")\n",
    "    return AverageTest.avg, AverageTest.return_avg_metric()"
   ]
  },
  {
   "cell_type": "code",
   "execution_count": 12,
   "metadata": {},
   "outputs": [],
   "source": [
    "def create_optimizer(model):\n",
    "    parameters = []\n",
    "    no_decay = [\"bias\", \"LayerNorm.bias\", \"LayerNorm.weight\"]\n",
    "    for name_layer, params in list(model.named_parameters()):\n",
    "        if 'rubert' in name_layer:\n",
    "            lr = CFG.lr_bert\n",
    "            if any(nd in name_layer for nd in no_decay):\n",
    "                weight_decay = 0.01\n",
    "            else:\n",
    "                weight_decay = 0.0\n",
    "            \n",
    "            parameters.append({\"params\": params,\n",
    "                               \"weight_decay\": weight_decay,\n",
    "                               \"lr\": lr})\n",
    "        else:\n",
    "            lr = CFG.lr_nn\n",
    "            if any(nd in name_layer for nd in no_decay):\n",
    "                weight_decay = 0.0\n",
    "            else:\n",
    "                weight_decay = 0.0\n",
    "            parameters.append({\"params\": params,\n",
    "                               \"weight_decay\": weight_decay,\n",
    "                               \"lr\": lr})\n",
    "    return torch.optim.Adam(parameters)"
   ]
  },
  {
   "cell_type": "code",
   "execution_count": 13,
   "metadata": {
    "scrolled": true
   },
   "outputs": [],
   "source": [
    "def run():\n",
    "    metrics = {}\n",
    "    for fold in range(4):\n",
    "        _loss_train, _loss_test, _R2_train, _R2_test = [], [], [], []\n",
    "        with open(f'utils/splits/test_fold_{fold}.pkl', 'rb') as handle:\n",
    "            test_index = pickle.load(handle)\n",
    "        with open(f'utils/splits/train_fold_{fold}.pkl', 'rb') as handle:\n",
    "            train_index = pickle.load(handle)\n",
    "        best_metric = 0\n",
    "        tr_loss = torch.nn.MSELoss(reduction=\"mean\")\n",
    "        model = RBKModel().to(CFG.device)\n",
    "        opt = create_optimizer(model)\n",
    "        train_loader = DataLoader(\n",
    "            RBKDataset(df_train.iloc[train_index].reset_index()), \n",
    "            batch_size=CFG.batch_size, \n",
    "            shuffle=True\n",
    "        )\n",
    "        val_loader = DataLoader(\n",
    "            RBKDataset(df_train.iloc[test_index].reset_index()), \n",
    "            batch_size=CFG.batch_size, \n",
    "            shuffle=False\n",
    "        )\n",
    "        for epoch in range(CFG.epochs):\n",
    "            model, loss_train, metric_train = train_net(train_loader, epoch, opt, tr_loss, model)\n",
    "            _loss_train.append(loss_train)\n",
    "            _R2_train.append(metric_train)\n",
    "            loss_test, metric_test = val_net(val_loader, tr_loss, model)\n",
    "            _loss_test.append(loss_test)\n",
    "            _R2_test.append(metric_test)\n",
    "            if metric_test > best_metric:\n",
    "                best_metric = metric_test\n",
    "                torch.save(model.state_dict(), f\"models_bert/rbk_bert_model_{fold}.pth\")\n",
    "        metrics[fold] = [_loss_train, _R2_train, _loss_test, _R2_test]\n",
    "        gc.collect()\n",
    "        torch.cuda.empty_cache()\n",
    "    return metrics\n"
   ]
  },
  {
   "cell_type": "code",
   "execution_count": 14,
   "metadata": {},
   "outputs": [
    {
     "name": "stderr",
     "output_type": "stream",
     "text": [
      "Some weights of the model checkpoint at DeepPavlov/rubert-base-cased were not used when initializing BertModel: ['cls.predictions.transform.LayerNorm.bias', 'cls.predictions.transform.LayerNorm.weight', 'cls.predictions.decoder.bias', 'cls.predictions.decoder.weight', 'cls.predictions.bias', 'cls.predictions.transform.dense.weight', 'cls.predictions.transform.dense.bias', 'cls.seq_relationship.weight', 'cls.seq_relationship.bias']\n",
      "- This IS expected if you are initializing BertModel from the checkpoint of a model trained on another task or with another architecture (e.g. initializing a BertForSequenceClassification model from a BertForPreTraining model).\n",
      "- This IS NOT expected if you are initializing BertModel from the checkpoint of a model that you expect to be exactly identical (initializing a BertForSequenceClassification model from a BertForSequenceClassification model).\n"
     ]
    },
    {
     "name": "stdout",
     "output_type": "stream",
     "text": [
      "Epoch 1\n"
     ]
    },
    {
     "name": "stderr",
     "output_type": "stream",
     "text": [
      "100%|██████████| 328/328 [03:20<00:00,  1.64it/s]\n"
     ]
    },
    {
     "name": "stdout",
     "output_type": "stream",
     "text": [
      "Loss on train 0.006276642843348361 R2 -0.6217239617393829\n"
     ]
    },
    {
     "name": "stderr",
     "output_type": "stream",
     "text": [
      "100%|██████████| 110/110 [00:22<00:00,  4.96it/s]\n"
     ]
    },
    {
     "name": "stdout",
     "output_type": "stream",
     "text": [
      "Loss on test 0.0048883378706787795 R2 0.04509574212119075\n",
      "Epoch 2\n"
     ]
    },
    {
     "name": "stderr",
     "output_type": "stream",
     "text": [
      "100%|██████████| 328/328 [03:24<00:00,  1.60it/s]\n"
     ]
    },
    {
     "name": "stdout",
     "output_type": "stream",
     "text": [
      "Loss on train 0.004827611336467515 R2 -0.20594864820280867\n"
     ]
    },
    {
     "name": "stderr",
     "output_type": "stream",
     "text": [
      "100%|██████████| 110/110 [00:22<00:00,  4.87it/s]\n"
     ]
    },
    {
     "name": "stdout",
     "output_type": "stream",
     "text": [
      "Loss on test 0.004417223545764996 R2 0.1482078957154171\n",
      "Epoch 3\n"
     ]
    },
    {
     "name": "stderr",
     "output_type": "stream",
     "text": [
      "100%|██████████| 328/328 [03:27<00:00,  1.58it/s]\n"
     ]
    },
    {
     "name": "stdout",
     "output_type": "stream",
     "text": [
      "Loss on train 0.004400170981747712 R2 -0.07728695395821136\n"
     ]
    },
    {
     "name": "stderr",
     "output_type": "stream",
     "text": [
      "100%|██████████| 110/110 [00:22<00:00,  4.84it/s]\n"
     ]
    },
    {
     "name": "stdout",
     "output_type": "stream",
     "text": [
      "Loss on test 0.004193161313676022 R2 0.2037378251762754\n",
      "Epoch 4\n"
     ]
    },
    {
     "name": "stderr",
     "output_type": "stream",
     "text": [
      "100%|██████████| 328/328 [03:25<00:00,  1.60it/s]\n"
     ]
    },
    {
     "name": "stdout",
     "output_type": "stream",
     "text": [
      "Loss on train 0.003887184536036263 R2 0.0700248009519276\n"
     ]
    },
    {
     "name": "stderr",
     "output_type": "stream",
     "text": [
      "100%|██████████| 110/110 [00:22<00:00,  4.90it/s]\n"
     ]
    },
    {
     "name": "stdout",
     "output_type": "stream",
     "text": [
      "Loss on test 0.0038482156592759896 R2 0.29428982869182896\n",
      "Epoch 5\n"
     ]
    },
    {
     "name": "stderr",
     "output_type": "stream",
     "text": [
      "100%|██████████| 328/328 [03:26<00:00,  1.59it/s]\n"
     ]
    },
    {
     "name": "stdout",
     "output_type": "stream",
     "text": [
      "Loss on train 0.0034544145544315123 R2 0.13230013751240138\n"
     ]
    },
    {
     "name": "stderr",
     "output_type": "stream",
     "text": [
      "100%|██████████| 110/110 [00:22<00:00,  4.97it/s]\n"
     ]
    },
    {
     "name": "stdout",
     "output_type": "stream",
     "text": [
      "Loss on test 0.003830129688140005 R2 0.276415371005748\n"
     ]
    },
    {
     "name": "stderr",
     "output_type": "stream",
     "text": [
      "Some weights of the model checkpoint at DeepPavlov/rubert-base-cased were not used when initializing BertModel: ['cls.predictions.transform.LayerNorm.bias', 'cls.predictions.transform.LayerNorm.weight', 'cls.predictions.decoder.bias', 'cls.predictions.decoder.weight', 'cls.predictions.bias', 'cls.predictions.transform.dense.weight', 'cls.predictions.transform.dense.bias', 'cls.seq_relationship.weight', 'cls.seq_relationship.bias']\n",
      "- This IS expected if you are initializing BertModel from the checkpoint of a model trained on another task or with another architecture (e.g. initializing a BertForSequenceClassification model from a BertForPreTraining model).\n",
      "- This IS NOT expected if you are initializing BertModel from the checkpoint of a model that you expect to be exactly identical (initializing a BertForSequenceClassification model from a BertForSequenceClassification model).\n"
     ]
    },
    {
     "name": "stdout",
     "output_type": "stream",
     "text": [
      "Epoch 1\n"
     ]
    },
    {
     "name": "stderr",
     "output_type": "stream",
     "text": [
      "100%|██████████| 328/328 [03:26<00:00,  1.59it/s]\n"
     ]
    },
    {
     "name": "stdout",
     "output_type": "stream",
     "text": [
      "Loss on train 0.0064445488032794035 R2 -0.39497081143548585\n"
     ]
    },
    {
     "name": "stderr",
     "output_type": "stream",
     "text": [
      "100%|██████████| 110/110 [00:22<00:00,  4.90it/s]\n"
     ]
    },
    {
     "name": "stdout",
     "output_type": "stream",
     "text": [
      "Loss on test 0.003827118868304586 R2 0.0011471011379710488\n",
      "Epoch 2\n"
     ]
    },
    {
     "name": "stderr",
     "output_type": "stream",
     "text": [
      "100%|██████████| 328/328 [03:27<00:00,  1.58it/s]\n"
     ]
    },
    {
     "name": "stdout",
     "output_type": "stream",
     "text": [
      "Loss on train 0.005202333749521796 R2 -0.07203748645576467\n"
     ]
    },
    {
     "name": "stderr",
     "output_type": "stream",
     "text": [
      "100%|██████████| 110/110 [00:22<00:00,  4.90it/s]\n"
     ]
    },
    {
     "name": "stdout",
     "output_type": "stream",
     "text": [
      "Loss on test 0.0034117870022204112 R2 0.10943509245040162\n",
      "Epoch 3\n"
     ]
    },
    {
     "name": "stderr",
     "output_type": "stream",
     "text": [
      "100%|██████████| 328/328 [03:27<00:00,  1.58it/s]\n"
     ]
    },
    {
     "name": "stdout",
     "output_type": "stream",
     "text": [
      "Loss on train 0.004618689271964974 R2 0.06082259632140093\n"
     ]
    },
    {
     "name": "stderr",
     "output_type": "stream",
     "text": [
      "100%|██████████| 110/110 [00:22<00:00,  4.92it/s]\n"
     ]
    },
    {
     "name": "stdout",
     "output_type": "stream",
     "text": [
      "Loss on test 0.003325169419192455 R2 -0.005232168199521978\n",
      "Epoch 4\n"
     ]
    },
    {
     "name": "stderr",
     "output_type": "stream",
     "text": [
      "100%|██████████| 328/328 [03:27<00:00,  1.58it/s]\n"
     ]
    },
    {
     "name": "stdout",
     "output_type": "stream",
     "text": [
      "Loss on train 0.004222879716175291 R2 0.1251397297287693\n"
     ]
    },
    {
     "name": "stderr",
     "output_type": "stream",
     "text": [
      "100%|██████████| 110/110 [00:22<00:00,  4.82it/s]\n"
     ]
    },
    {
     "name": "stdout",
     "output_type": "stream",
     "text": [
      "Loss on test 0.0031722013468176804 R2 0.14429870467533285\n",
      "Epoch 5\n"
     ]
    },
    {
     "name": "stderr",
     "output_type": "stream",
     "text": [
      "100%|██████████| 328/328 [03:23<00:00,  1.61it/s]\n"
     ]
    },
    {
     "name": "stdout",
     "output_type": "stream",
     "text": [
      "Loss on train 0.0037420234751529857 R2 0.21354502901410083\n"
     ]
    },
    {
     "name": "stderr",
     "output_type": "stream",
     "text": [
      "100%|██████████| 110/110 [00:22<00:00,  4.99it/s]\n"
     ]
    },
    {
     "name": "stdout",
     "output_type": "stream",
     "text": [
      "Loss on test 0.003309807393022559 R2 0.07871110477541536\n"
     ]
    },
    {
     "name": "stderr",
     "output_type": "stream",
     "text": [
      "Some weights of the model checkpoint at DeepPavlov/rubert-base-cased were not used when initializing BertModel: ['cls.predictions.transform.LayerNorm.bias', 'cls.predictions.transform.LayerNorm.weight', 'cls.predictions.decoder.bias', 'cls.predictions.decoder.weight', 'cls.predictions.bias', 'cls.predictions.transform.dense.weight', 'cls.predictions.transform.dense.bias', 'cls.seq_relationship.weight', 'cls.seq_relationship.bias']\n",
      "- This IS expected if you are initializing BertModel from the checkpoint of a model trained on another task or with another architecture (e.g. initializing a BertForSequenceClassification model from a BertForPreTraining model).\n",
      "- This IS NOT expected if you are initializing BertModel from the checkpoint of a model that you expect to be exactly identical (initializing a BertForSequenceClassification model from a BertForSequenceClassification model).\n"
     ]
    },
    {
     "name": "stdout",
     "output_type": "stream",
     "text": [
      "Epoch 1\n"
     ]
    },
    {
     "name": "stderr",
     "output_type": "stream",
     "text": [
      "100%|██████████| 328/328 [03:24<00:00,  1.61it/s]\n"
     ]
    },
    {
     "name": "stdout",
     "output_type": "stream",
     "text": [
      "Loss on train 0.005844339402534477 R2 -0.3228665879697008\n"
     ]
    },
    {
     "name": "stderr",
     "output_type": "stream",
     "text": [
      "100%|██████████| 110/110 [00:22<00:00,  5.00it/s]\n"
     ]
    },
    {
     "name": "stdout",
     "output_type": "stream",
     "text": [
      "Loss on test 0.004597410136325793 R2 0.08689477614110722\n",
      "Epoch 2\n"
     ]
    },
    {
     "name": "stderr",
     "output_type": "stream",
     "text": [
      "100%|██████████| 328/328 [03:21<00:00,  1.62it/s]\n"
     ]
    },
    {
     "name": "stdout",
     "output_type": "stream",
     "text": [
      "Loss on train 0.004779537818848905 R2 -0.0368483148058938\n"
     ]
    },
    {
     "name": "stderr",
     "output_type": "stream",
     "text": [
      "100%|██████████| 110/110 [00:21<00:00,  5.02it/s]\n"
     ]
    },
    {
     "name": "stdout",
     "output_type": "stream",
     "text": [
      "Loss on test 0.003821033347313377 R2 0.20119094478526584\n",
      "Epoch 3\n"
     ]
    },
    {
     "name": "stderr",
     "output_type": "stream",
     "text": [
      "100%|██████████| 328/328 [03:21<00:00,  1.63it/s]\n"
     ]
    },
    {
     "name": "stdout",
     "output_type": "stream",
     "text": [
      "Loss on train 0.004122945387058369 R2 0.10373999786756395\n"
     ]
    },
    {
     "name": "stderr",
     "output_type": "stream",
     "text": [
      "100%|██████████| 110/110 [00:21<00:00,  5.01it/s]\n"
     ]
    },
    {
     "name": "stdout",
     "output_type": "stream",
     "text": [
      "Loss on test 0.003735133793882348 R2 0.2218148141263278\n",
      "Epoch 4\n"
     ]
    },
    {
     "name": "stderr",
     "output_type": "stream",
     "text": [
      "100%|██████████| 328/328 [03:21<00:00,  1.63it/s]\n"
     ]
    },
    {
     "name": "stdout",
     "output_type": "stream",
     "text": [
      "Loss on train 0.0037525778642724973 R2 0.19377845223154716\n"
     ]
    },
    {
     "name": "stderr",
     "output_type": "stream",
     "text": [
      "100%|██████████| 110/110 [00:21<00:00,  5.01it/s]\n"
     ]
    },
    {
     "name": "stdout",
     "output_type": "stream",
     "text": [
      "Loss on test 0.0038264967808076603 R2 0.19876742825058866\n",
      "Epoch 5\n"
     ]
    },
    {
     "name": "stderr",
     "output_type": "stream",
     "text": [
      "100%|██████████| 328/328 [03:21<00:00,  1.63it/s]\n"
     ]
    },
    {
     "name": "stdout",
     "output_type": "stream",
     "text": [
      "Loss on train 0.0032884995215260084 R2 0.24482019078858763\n"
     ]
    },
    {
     "name": "stderr",
     "output_type": "stream",
     "text": [
      "100%|██████████| 110/110 [00:21<00:00,  5.01it/s]\n"
     ]
    },
    {
     "name": "stdout",
     "output_type": "stream",
     "text": [
      "Loss on test 0.004356257504233243 R2 0.17625941930823702\n"
     ]
    },
    {
     "name": "stderr",
     "output_type": "stream",
     "text": [
      "Some weights of the model checkpoint at DeepPavlov/rubert-base-cased were not used when initializing BertModel: ['cls.predictions.transform.LayerNorm.bias', 'cls.predictions.transform.LayerNorm.weight', 'cls.predictions.decoder.bias', 'cls.predictions.decoder.weight', 'cls.predictions.bias', 'cls.predictions.transform.dense.weight', 'cls.predictions.transform.dense.bias', 'cls.seq_relationship.weight', 'cls.seq_relationship.bias']\n",
      "- This IS expected if you are initializing BertModel from the checkpoint of a model trained on another task or with another architecture (e.g. initializing a BertForSequenceClassification model from a BertForPreTraining model).\n",
      "- This IS NOT expected if you are initializing BertModel from the checkpoint of a model that you expect to be exactly identical (initializing a BertForSequenceClassification model from a BertForSequenceClassification model).\n"
     ]
    },
    {
     "name": "stdout",
     "output_type": "stream",
     "text": [
      "Epoch 1\n"
     ]
    },
    {
     "name": "stderr",
     "output_type": "stream",
     "text": [
      "100%|██████████| 328/328 [03:20<00:00,  1.63it/s]\n"
     ]
    },
    {
     "name": "stdout",
     "output_type": "stream",
     "text": [
      "Loss on train 0.0070365299747563986 R2 -0.5711070456122581\n"
     ]
    },
    {
     "name": "stderr",
     "output_type": "stream",
     "text": [
      "100%|██████████| 110/110 [00:21<00:00,  5.00it/s]\n"
     ]
    },
    {
     "name": "stdout",
     "output_type": "stream",
     "text": [
      "Loss on test 0.004439235983458771 R2 0.08416641186836832\n",
      "Epoch 2\n"
     ]
    },
    {
     "name": "stderr",
     "output_type": "stream",
     "text": [
      "100%|██████████| 328/328 [03:21<00:00,  1.63it/s]\n"
     ]
    },
    {
     "name": "stdout",
     "output_type": "stream",
     "text": [
      "Loss on train 0.005528754235256645 R2 -0.19253126237296744\n"
     ]
    },
    {
     "name": "stderr",
     "output_type": "stream",
     "text": [
      "100%|██████████| 110/110 [00:21<00:00,  5.01it/s]\n"
     ]
    },
    {
     "name": "stdout",
     "output_type": "stream",
     "text": [
      "Loss on test 0.0035359028599817642 R2 0.15014390409284428\n",
      "Epoch 3\n"
     ]
    },
    {
     "name": "stderr",
     "output_type": "stream",
     "text": [
      "100%|██████████| 328/328 [03:21<00:00,  1.63it/s]\n"
     ]
    },
    {
     "name": "stdout",
     "output_type": "stream",
     "text": [
      "Loss on train 0.004900961762603667 R2 -0.048208109114885225\n"
     ]
    },
    {
     "name": "stderr",
     "output_type": "stream",
     "text": [
      "100%|██████████| 110/110 [00:22<00:00,  4.95it/s]\n"
     ]
    },
    {
     "name": "stdout",
     "output_type": "stream",
     "text": [
      "Loss on test 0.003295084491202777 R2 0.23585551327292156\n",
      "Epoch 4\n"
     ]
    },
    {
     "name": "stderr",
     "output_type": "stream",
     "text": [
      "100%|██████████| 328/328 [03:21<00:00,  1.63it/s]\n"
     ]
    },
    {
     "name": "stdout",
     "output_type": "stream",
     "text": [
      "Loss on train 0.004399377107336299 R2 0.059735402465789414\n"
     ]
    },
    {
     "name": "stderr",
     "output_type": "stream",
     "text": [
      "100%|██████████| 110/110 [00:21<00:00,  5.02it/s]\n"
     ]
    },
    {
     "name": "stdout",
     "output_type": "stream",
     "text": [
      "Loss on test 0.0030933053402060814 R2 0.31500884034125853\n",
      "Epoch 5\n"
     ]
    },
    {
     "name": "stderr",
     "output_type": "stream",
     "text": [
      "100%|██████████| 328/328 [03:21<00:00,  1.63it/s]\n"
     ]
    },
    {
     "name": "stdout",
     "output_type": "stream",
     "text": [
      "Loss on train 0.003991567697972286 R2 0.1404380296451929\n"
     ]
    },
    {
     "name": "stderr",
     "output_type": "stream",
     "text": [
      "100%|██████████| 110/110 [00:21<00:00,  5.02it/s]\n"
     ]
    },
    {
     "name": "stdout",
     "output_type": "stream",
     "text": [
      "Loss on test 0.003445523662958294 R2 0.26283201434578585\n"
     ]
    }
   ],
   "source": [
    "if __name__== \"__main__\":\n",
    "    metircs_nn = run()"
   ]
  },
  {
   "cell_type": "code",
   "execution_count": 66,
   "metadata": {},
   "outputs": [
    {
     "data": {
      "image/png": "[encoded data removed]",
      "text/plain": [
       "<Figure size 1080x720 with 4 Axes>"
      ]
     },
     "metadata": {
      "needs_background": "light"
     },
     "output_type": "display_data"
    }
   ],
   "source": [
    "x = range(5)\n",
    "fig, axs = plt.subplots(2, 2)\n",
    "fig.set_figheight(10)\n",
    "fig.set_figwidth(15)\n",
    "axs[0, 0].plot(x, metircs_nn[0][0] ,label='train')\n",
    "axs[0, 0].plot(x, metircs_nn[0][2], label='test')\n",
    "axs[0, 0].set_title('loss epoch 0')\n",
    "axs[0, 0].legend()\n",
    "axs[0, 1].plot(x, metircs_nn[1][0], label='train')\n",
    "axs[0, 1].plot(x, metircs_nn[1][2], label='test')\n",
    "axs[0, 1].set_title('loss epoch 1')\n",
    "axs[1, 0].plot(x, metircs_nn[2][0], label='train')\n",
    "axs[1, 0].plot(x, metircs_nn[2][2], label='test')\n",
    "axs[1, 0].set_title('loss epoch 2')\n",
    "axs[1, 1].plot(x, metircs_nn[3][0], label='train')\n",
    "axs[1, 1].plot(x, metircs_nn[3][2], label='test')\n",
    "axs[1, 1].set_title('loss epoch 3')\n",
    "plt.show()"
   ]
  },
  {
   "cell_type": "code",
   "execution_count": null,
   "metadata": {},
   "outputs": [],
   "source": []
  },
  {
   "cell_type": "code",
   "execution_count": null,
   "metadata": {},
   "outputs": [],
   "source": []
  }
 ],
 "metadata": {
  "kernelspec": {
   "display_name": "Python 3",
   "language": "python",
   "name": "python3"
  },
  "language_info": {
   "codemirror_mode": {
    "name": "ipython",
    "version": 3
   },
   "file_extension": ".py",
   "mimetype": "text/x-python",
   "name": "python",
   "nbconvert_exporter": "python",
   "pygments_lexer": "ipython3",
   "version": "3.7.3"
  }
 },
 "nbformat": 4,
 "nbformat_minor": 2
}
